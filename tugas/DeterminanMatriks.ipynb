{
 "cells": [
  {
   "cell_type": "markdown",
   "metadata": {},
   "source": [
    "# **Determinan Matriks**\n",
    "Determinan matriks merupakan selisih antara perkalian elemen-elemen pada diagonal 1 dengan perkalian elemen-elemen pada diagonal 2. Determinan matriks harus memiliki ordo yang sama."
   ]
  },
  {
   "cell_type": "markdown",
   "metadata": {},
   "source": [
    "## **Sifat Matriks**\n",
    "1. Matriks identitas nilai nya 1\n",
    "2. Mengubah baris akan mengubah tanda determinan\n",
    "3. Jika suatu baris kelipatan dari baris yang lain maka determinan matriks tersebut 0\n"
   ]
  },
  {
   "cell_type": "code",
   "execution_count": 8,
   "metadata": {},
   "outputs": [
    {
     "name": "stdout",
     "output_type": "stream",
     "text": [
      "Determinannya adalah: 1\n",
      "Determinannya adalah: 1\n",
      "Determinannya adalah: -3\n",
      "Determinannya adalah: 3\n",
      "Determinannya adalah: 0\n",
      "Determinannya adalah: 0\n",
      "Determinannya adalah: 24\n"
     ]
    }
   ],
   "source": [
    "import numpy as np\n",
    "\n",
    "# Definisikan matriks\n",
    "matrixA = np.array([[1, 0], [0, 1]])\n",
    "matrixB = np.array([[1,0,0],[0,1,0],[0,0,1]])\n",
    "matrixC = np.array([[1,2,1],[3,1,2],[2,1,2]])\n",
    "matrixD = np.array([[3,1,2],[1,2,1],[2,1,2]])\n",
    "matrixE = np.array([[1,2,1],[2,4,2],[2,1,2]])\n",
    "matrixF = np.array([[1,2,1],[2,4,2],[2,4,3]])\n",
    "matrixG = np.array([[6,2,4],[2,4,2],[4,2,4]])\n",
    "\n",
    "# Hitung determinan\n",
    "det1 = round(np.linalg.det(matrixA))\n",
    "det2 = round(np.linalg.det(matrixB))\n",
    "det3 = round(np.linalg.det(matrixC))\n",
    "det4 = round(np.linalg.det(matrixD))\n",
    "det5 = round(np.linalg.det(matrixE))\n",
    "det6 = round(np.linalg.det(matrixF))\n",
    "det7 = round(np.linalg.det(matrixG))\n",
    "\n",
    "print(f'Determinannya adalah: {det1}')\n",
    "print(f'Determinannya adalah: {det2}')\n",
    "print(f'Determinannya adalah: {det3}')\n",
    "print(f'Determinannya adalah: {det4}')\n",
    "print(f'Determinannya adalah: {det5}')\n",
    "print(f'Determinannya adalah: {det6}')\n",
    "print(f'Determinannya adalah: {det7}')"
   ]
  },
  {
   "cell_type": "markdown",
   "metadata": {},
   "source": [
    "4. Jika ada matriks 1 dan matriks 2 nya kelipatan 2 dari matriks 1 maka kelipatan suatu matriks dikali dengan ordo matiks dan dikali hasil determinan"
   ]
  },
  {
   "cell_type": "code",
   "execution_count": 9,
   "metadata": {},
   "outputs": [
    {
     "name": "stdout",
     "output_type": "stream",
     "text": [
      "Determinannya adalah: -5\n",
      "Determinannya adalah: -20\n"
     ]
    }
   ],
   "source": [
    "import numpy as np\n",
    "matrixA = np.array([[3, 4], [2, 1]])\n",
    "matrixH = np.array([[6, 8], [4, 2]])\n",
    "\n",
    "det1 = round(np.linalg.det(matrixA))\n",
    "det2 = round(np.linalg.det(matrixH))\n",
    "\n",
    "print(f'Determinannya adalah: {det1}')\n",
    "print(f'Determinannya adalah: {det2}')\n"
   ]
  },
  {
   "cell_type": "markdown",
   "metadata": {},
   "source": [
    "5. Jika salah satu baris matriks dikali 2 maka hasil determinannya sama dengan dikali 2 dan seterusnya berkelipatan"
   ]
  },
  {
   "cell_type": "code",
   "execution_count": 10,
   "metadata": {},
   "outputs": [
    {
     "name": "stdout",
     "output_type": "stream",
     "text": [
      "Determinannya adalah: -5\n",
      "Determinannya adalah: -10\n"
     ]
    }
   ],
   "source": [
    "import numpy as np\n",
    "matrixA = np.array([[3, 4], [2, 1]])\n",
    "matrixI = np.array([[6, 8], [2, 1]])\n",
    "\n",
    "det1 = round(np.linalg.det(matrixA))\n",
    "det2 = round(np.linalg.det(matrixI))\n",
    "\n",
    "print(f'Determinannya adalah: {det1}')\n",
    "print(f'Determinannya adalah: {det2}')\n"
   ]
  },
  {
   "cell_type": "markdown",
   "metadata": {},
   "source": [
    "6. Sama dengan no.7 jika salah satu kolom matriks dikali 2 maka hasil determinannya sama dengan dikali 2 dan seterusnya berkelipatan"
   ]
  },
  {
   "cell_type": "code",
   "execution_count": 11,
   "metadata": {},
   "outputs": [
    {
     "name": "stdout",
     "output_type": "stream",
     "text": [
      "Determinannya adalah: -5\n",
      "Determinannya adalah: -10\n"
     ]
    }
   ],
   "source": [
    "import numpy as np\n",
    "matrixA = np.array([[3, 4], [2, 1]])\n",
    "matrixJ = np.array([[6, 4], [4, 1]])\n",
    "\n",
    "det1 = round(np.linalg.det(matrixA))\n",
    "det2 = round(np.linalg.det(matrixJ))\n",
    "\n",
    "print(f'Determinannya adalah: {det1}')\n",
    "print(f'Determinannya adalah: {det2}')\n",
    "\n"
   ]
  },
  {
   "cell_type": "markdown",
   "metadata": {},
   "source": [
    "7. Determinan segitiga atas dan bawah"
   ]
  },
  {
   "cell_type": "code",
   "execution_count": 12,
   "metadata": {},
   "outputs": [
    {
     "name": "stdout",
     "output_type": "stream",
     "text": [
      "Determinan SEGITIGA BAWAH adalah: 1\n",
      "Determinan SEGITIGA ATAS adalah: 2\n"
     ]
    }
   ],
   "source": [
    "import numpy as np\n",
    "matrix1 = np.array([[1,2,1],[0,1,3],[0,0,1]])\n",
    "matrix2 = np.array([[1,0,0],[3,1,0],[2,1,2]])\n",
    "\n",
    "det1 = round(np.linalg.det(matrix1))\n",
    "det2 = round(np.linalg.det(matrix2))\n",
    "\n",
    "print(f'Determinan SEGITIGA BAWAH adalah: {det1}')\n",
    "print(f'Determinan SEGITIGA ATAS adalah: {det2}')\n"
   ]
  },
  {
   "cell_type": "markdown",
   "metadata": {},
   "source": [
    "8. Perkalian determinan 2 matriks"
   ]
  },
  {
   "cell_type": "code",
   "execution_count": 13,
   "metadata": {},
   "outputs": [
    {
     "name": "stdout",
     "output_type": "stream",
     "text": [
      "Determinannya adalah: 1\n",
      "Determinannya adalah: 0\n",
      "Determinannya adalah: 0\n",
      "hasil perkalian: 0\n"
     ]
    }
   ],
   "source": [
    "import numpy as np\n",
    "matrix1 = np.array([[2, 1], [1, 1]])\n",
    "matrix2 = np.array([[1, 1], [1, 1]])\n",
    "\n",
    "det1 = round(np.linalg.det(matrix1))\n",
    "det2 = round(np.linalg.det(matrix2))\n",
    "\n",
    "print(f'Determinannya adalah: {det1}')\n",
    "print(f'Determinannya adalah: {det2}')\n",
    "\n",
    "#hasil perkalian matriks1 dan 2, dan mencari determinannya\n",
    "matrixC= np.array([[3,3],[2,2]])\n",
    "det3 = round(np.linalg.det(matrixC))\n",
    "hasil=det1 * det2\n",
    "print(f'Determinannya adalah: {det3}')\n",
    "print(f'hasil perkalian: {hasil}')"
   ]
  },
  {
   "cell_type": "markdown",
   "metadata": {},
   "source": [
    "## **Menghitung determinan matriks dan invers matrik matriks 5x5**"
   ]
  },
  {
   "cell_type": "code",
   "execution_count": 14,
   "metadata": {},
   "outputs": [
    {
     "name": "stdout",
     "output_type": "stream",
     "text": [
      "Matriks:\n",
      "[[2 3 1 1 4]\n",
      " [1 2 2 3 1]\n",
      " [1 2 3 4 1]\n",
      " [1 1 1 2 2]\n",
      " [1 3 2 1 4]]\n",
      "\n",
      "Determinan Matriks:\n",
      "5.999999999999997\n",
      "\n",
      "Invers Matriks:\n",
      "[[ 1.66666667 -2.5         2.16666667 -0.83333333 -1.16666667]\n",
      " [-0.33333333  2.         -1.33333333 -0.33333333  0.33333333]\n",
      " [ 0.66666667 -2.5         2.16666667 -0.83333333 -0.16666667]\n",
      " [-0.66666667  1.5        -1.16666667  0.83333333  0.16666667]\n",
      " [-0.33333333  0.         -0.33333333  0.66666667  0.33333333]]\n"
     ]
    }
   ],
   "source": [
    "import numpy as np\n",
    "\n",
    "# Membuat matriks 5x5\n",
    "matrix = np.array([\n",
    "    [2, 3, 1, 1, 4],\n",
    "    [1, 2, 2, 3, 1],\n",
    "    [1, 2, 3, 4, 1],\n",
    "    [1, 1, 1, 2, 2],\n",
    "    [1, 3, 2, 1, 4]\n",
    "])\n",
    "\n",
    "# Menampilkan matriks\n",
    "print(\"Matriks:\")\n",
    "print(matrix)\n",
    "\n",
    "# Menghitung determinan matriks\n",
    "determinant = np.linalg.det(matrix)\n",
    "print(\"\\nDeterminan Matriks:\")\n",
    "print(determinant)\n",
    "\n",
    "# Menghitung invers matriks\n",
    "if determinant != 0:\n",
    "    inverse_matrix = np.linalg.inv(matrix)\n",
    "    print(\"\\nInvers Matriks:\")\n",
    "    print(inverse_matrix)\n",
    "else:\n",
    "    print(\"\\nMatriks ini tidak memiliki invers karena determinannya adalah 0.\")"
   ]
  }
 ],
 "metadata": {
  "kernelspec": {
   "display_name": "Python 3 (ipykernel)",
   "language": "python",
   "name": "python3"
  },
  "widgets": {
   "application/vnd.jupyter.widget-state+json": {
    "state": {},
    "version_major": 2,
    "version_minor": 0
   }
  }
 },
 "nbformat": 4,
 "nbformat_minor": 4
}
