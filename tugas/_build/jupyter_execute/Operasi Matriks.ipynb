{
 "cells": [
  {
   "cell_type": "markdown",
   "metadata": {
    "id": "kgvHjwy01tBj"
   },
   "source": [
    "# Aljabar Matriks\n",
    "\n",
    "*   **Apa itu matriks?**\n",
    "\n",
    "    Matriks adalah suatu susunan bilangan real atau bilangan kompleks (atau elemen-elemen) yang disusun dalam baris dan kolom sehingga membentuk jajaran persegi panjang. Suatu matriks diberi nama dengan menggunakan huruf kapital seperti A, B, C, dan seterusnya, sedangkan anggotanya dinyatakan dengan huruf kecil.\n",
    "*   **Apa itu operasi matriks?**\n",
    "\n",
    "     Operasi matriks adalah operasi suatu bentuk matriks, seperti penjumlahan, pengurangan, dan perkalian. Untuk penjumlahan dan pengurangan hanya bisa dilakukan pada matriks yang ordonya sama.\n",
    "*   **Penjumlahan dan Pengurangan:** Dilakukan antara matriks yang memiliki dimensi yang sama, yaitu jumlah baris dan kolom yang identik.\n",
    "* **Perkalian Matriks:** proses mengalikan setiap elemen baris pada matriks pertama dengan elemen kolom pada matriks kedua. Hasilnya kemudian dijumlahkan untuk memperoleh hasil akhir perkalian matriks.\n",
    "* **Transpose Matriks:**  Matriks baru yang diperoleh dengan cara menukar elemen-elemen baris menjadi elemen kolom atau sebaliknya.\n",
    "\n",
    "\n",
    "##Buat program untuk mengalikan matriks A dan B\n"
   ]
  },
  {
   "cell_type": "markdown",
   "metadata": {
    "id": "kU1D5-6dO6B8"
   },
   "source": [
    "##Jawaban mengalikan Matriks A dan B"
   ]
  },
  {
   "cell_type": "code",
   "execution_count": 1,
   "metadata": {
    "colab": {
     "base_uri": "https://localhost:8080/"
    },
    "executionInfo": {
     "elapsed": 15,
     "status": "ok",
     "timestamp": 1710724624595,
     "user": {
      "displayName": "23-179 ADIB WILDAN RIYADI",
      "userId": "03014312668909231659"
     },
     "user_tz": -420
    },
    "id": "Vbi0XuCAO8Zb",
    "outputId": "de8af707-d7c4-4597-ad88-c79c8320f05d"
   },
   "outputs": [
    {
     "name": "stdout",
     "output_type": "stream",
     "text": [
      "[33, 36, 26]\n",
      "[66, 42, 40]\n",
      "[39, 18, 34]\n"
     ]
    }
   ],
   "source": [
    "def perkalian_matriks(A, B):\n",
    "    baris_A = len(A)\n",
    "    kolom_A = len(A[0])\n",
    "    baris_B = len(B)\n",
    "    kolom_B = len(B[0])\n",
    "\n",
    "    # Membuat matriks hasil dengan ukuran yang sesuai\n",
    "    result = [[0 for _ in range(kolom_B)] for _ in range(baris_A)]\n",
    "\n",
    "    # Perkalian matriks\n",
    "    for i in range(baris_A):\n",
    "        for j in range(kolom_B):\n",
    "            for k in range(kolom_A):\n",
    "                result[i][j] += A[i][k] * B[k][j]\n",
    "\n",
    "    return result\n",
    "\n",
    "# Matriks A\n",
    "A = [[3, 1, 5],\n",
    "     [3, 5, 4],\n",
    "     [6, 2, 1]]\n",
    "\n",
    "# Matriks B\n",
    "B = [[3, 1, 4],\n",
    "     [9, 3, 4],\n",
    "     [3, 6, 2]]\n",
    "\n",
    "# Mengalikan dua matriks\n",
    "C = perkalian_matriks(A, B)\n",
    "\n",
    "# Menampilkan hasil\n",
    "for row in C:\n",
    "    print(row)"
   ]
  }
 ],
 "metadata": {
  "colab": {
   "authorship_tag": "ABX9TyP+jM5cauPtMeywfvSaiajf",
   "provenance": []
  },
  "kernelspec": {
   "display_name": "Python 3",
   "name": "python3"
  },
  "language_info": {
   "codemirror_mode": {
    "name": "ipython",
    "version": 3
   },
   "file_extension": ".py",
   "mimetype": "text/x-python",
   "name": "python",
   "nbconvert_exporter": "python",
   "pygments_lexer": "ipython3",
   "version": "3.10.13"
  }
 },
 "nbformat": 4,
 "nbformat_minor": 0
}