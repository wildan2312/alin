{
 "cells": [
  {
   "cell_type": "markdown",
   "metadata": {},
   "source": [
    "# **Matriks Invers**\n",
    "\n",
    "Invers matriks adalah kebalikan (invers) dari sebuah matriks yang apabila matriks tersebut dikalikan dengan inversnya, akan menjadi matriks identitas. Invers matriks dilambangkan dengan A-1. Suatu matriks dikatakan memiliki invers jika determinan dari matriks tersebut tidak sama dengan nol."
   ]
  },
  {
   "cell_type": "markdown",
   "metadata": {},
   "source": [
    "## **Sifat-sifat Matriks Invers**\n",
    "\n",
    "\n",
    "\n",
    "1.   Matriks Invers hanya ada pada matrik yang memiliki jumlah baris dan kolom yang sama\n",
    "2.    Invers matriks hanya ada untuk matriks nonsingular, yaitu matriks yang memiliki determinan tidak sama dengan nol.\n",
    "3. Invers matriks adalah tunggal, yaitu tidak ada lebih dari satu matriks yang dapat menjadi invers dari suatu matriks. Jika B dan C keduanya adalah invers dari A, maka B=C.\n",
    "\n",
    "\n"
   ]
  },
  {
   "cell_type": "markdown",
   "metadata": {},
   "source": [
    "## **Mencari Invers Dengan Eleminasi Gauss Jordan**\n",
    "\n",
    "Eliminasi Gauss-Jordan adalah sebuah metode matematis untuk mencari invers dari sebuah matriks. Langkah-langkahnya mirip dengan eliminasi Gauss biasa, tetapi setelah matriks berada dalam bentuk eselon, langkah selanjutnya adalah mengubahnya menjadi bentuk eselon tereduksi."
   ]
  },
  {
   "cell_type": "code",
   "execution_count": 1,
   "metadata": {},
   "outputs": [
    {
     "name": "stdout",
     "output_type": "stream",
     "text": [
      "Matriks Invers menggunakan Eliminasi Gauss-Jordan:\n",
      " [[ 0.5         0.          0.          0.          0.          0.        ]\n",
      " [ 0.          0.2        -0.17142857  0.          0.          0.        ]\n",
      " [ 0.          0.          0.14285714  0.          0.          0.        ]\n",
      " [ 0.          0.          0.          0.125      -0.1125      0.        ]\n",
      " [ 0.          0.          0.          0.          0.1         0.        ]\n",
      " [ 0.          0.          0.          0.          0.          0.09090909]]\n"
     ]
    }
   ],
   "source": [
    "import numpy as np\n",
    "\n",
    "def RowSwap(A, k, l):\n",
    "    temp = np.copy(A[k])\n",
    "    A[k] = A[l]\n",
    "    A[l] = temp\n",
    "\n",
    "def RowScale(A, k, scale):\n",
    "    A[k] *= scale\n",
    "\n",
    "def RowAdd(A, k, l, scale):\n",
    "    A[l] += A[k] * scale\n",
    "\n",
    "def inverse_matrix(A):\n",
    "    m, n = A.shape\n",
    "    aug_matrix = np.hstack((A, np.identity(m)))\n",
    "\n",
    "    for i in range(m):\n",
    "        pivot_row = i\n",
    "        for k in range(i + 1, m):\n",
    "            if abs(aug_matrix[k, i]) > abs(aug_matrix[pivot_row, i]):\n",
    "                pivot_row = k\n",
    "\n",
    "        if pivot_row != i:\n",
    "            RowSwap(aug_matrix, i, pivot_row)\n",
    "\n",
    "        RowScale(aug_matrix, i, 1 / aug_matrix[i, i])\n",
    "\n",
    "        for j in range(m):\n",
    "            if j != i:\n",
    "                RowAdd(aug_matrix, i, j, -aug_matrix[j, i])\n",
    "\n",
    "    inverse_A = aug_matrix[:, m:]\n",
    "\n",
    "    return inverse_A\n",
    "\n",
    "# Persamaan asli\n",
    "A = np.array([\n",
    "    [2, 0, 0, 0, 0, 0],\n",
    "    [0, 5, 6, 0, 0, 0],\n",
    "    [0, 0, 7, 0, 0, 0],\n",
    "    [0, 0, 0, 8, 9, 0],\n",
    "    [0, 0, 0, 0, 10, 0],\n",
    "    [0, 0, 0, 0, 0, 11],\n",
    "])\n",
    "\n",
    "# Mencari matriks invers\n",
    "invers_A = inverse_matrix(A)\n",
    "\n",
    "print(\"Matriks Invers menggunakan Eliminasi Gauss-Jordan:\\n\", invers_A)"
   ]
  },
  {
   "cell_type": "markdown",
   "metadata": {},
   "source": [
    "## **Solusi Persamaan Linier Dengan Matriks Invers**\n",
    "\n",
    "Soal Persamaan Linier 6 Variabel:\n",
    "\n",
    "\n",
    "Untuk mempresentasikan sistem persamaan linear dalam bentuk matriks, kita dapat menggunakan matriks koefisien A, vektor variabel X, dan vektor konstanta B.\n",
    "\n",
    "Matriks koefisien A terdiri dari koefisien-koefisien variabel dalam setiap persamaan.\n",
    "Vektor variabel X berisi variabel-variabel tersebut.\n",
    "Vektor konstanta B berisi hasil dari setiap persamaan.\n",
    "\n",
    "Untuk sistem persamaan yang telah kita buat sebelumnya:\n",
    "\n",
    "$$\n",
    "\\begin{align*}\n",
    "x_1 + x_2 + x_3 + x_4 + x_5 + x_6 &= 20 \\\\\n",
    "2x_1 - x_2 + 3x_3 - 2x_4 + 4x_5 - x_6 &= 15 \\\\\n",
    "3x_1 + 2x_2 - x_3 + 2x_4 - 3x_5 + x_6 &= 10 \\\\\n",
    "4x_1 + x_2 + 2x_3 - 3x_4 + 2x_5 + 4x_6 &= 25 \\\\\n",
    "2x_1 - 3x_2 + x_3 + 4x_4 - 2x_5 + 3x_6 &= 5 \\\\\n",
    "x_1 + 2x_2 + 3x_3 - x_4 + 2x_5 + x_6 &= 18 \\\\\n",
    "\\end{align*}\n",
    "$$\n",
    "\n",
    "Maka, matriks koefisien A akan menjadi:\n",
    "\n",
    "$$\n",
    "A = \\begin{pmatrix}\n",
    "1 & 1 & 1 & 1 & 1 & 1 \\\\\n",
    "2 & -1 & 3 & -2 & 4 & -1 \\\\\n",
    "3 & 2 & -1 & 2 & -3 & 1 \\\\\n",
    "4 & 1 & 2 & -3 & 2 & 4 \\\\\n",
    "2 & -3 & 1 & 4 & -2 & 3 \\\\\n",
    "1 & 2 & 3 & -1 & 2 & 1 \\\\\n",
    "\\end{pmatrix}\n",
    "$$\n",
    "\n",
    "Vektor variabel X akan menjadi:\n",
    "\n",
    "$$\n",
    "X = \\begin{pmatrix}\n",
    "x_1 \\\\\n",
    "x_2 \\\\\n",
    "x_3 \\\\\n",
    "x_4 \\\\\n",
    "x_5 \\\\\n",
    "x_6 \\\\\n",
    "\\end{pmatrix}\n",
    "$$\n",
    "\n",
    "Vektor konstanta B akan menjadi:\n",
    "\n",
    "$$\n",
    "B = \\begin{pmatrix}\n",
    "20 \\\\\n",
    "15 \\\\\n",
    "10 \\\\\n",
    "25 \\\\\n",
    "5 \\\\\n",
    "18 \\\\\n",
    "\\end{pmatrix}\n",
    "$$\n"
   ]
  },
  {
   "cell_type": "code",
   "execution_count": 2,
   "metadata": {},
   "outputs": [
    {
     "name": "stdout",
     "output_type": "stream",
     "text": [
      "Solusi untuk variabel x1, x2, x3, x4, x5, x6:\n",
      "[ 3.53757225  3.8583815  -1.96242775  4.65606936  7.37861272  2.53179191]\n"
     ]
    }
   ],
   "source": [
    "import numpy as np\n",
    "\n",
    "# Matriks koefisien A\n",
    "A = np.array([\n",
    "    [1, 1, 1, 1, 1, 1],\n",
    "    [2, -1, 3, -2, 4, -1],\n",
    "    [3, 2, -1, 2, -3, 1],\n",
    "    [4, 1, 2, -3, 2, 4],\n",
    "    [2, -3, 1, 4, -2, 3],\n",
    "    [1, 2, 3, -1, 2, 1]\n",
    "])\n",
    "\n",
    "# Vektor konstanta B\n",
    "B = np.array([20, 15, 10, 25, 5, 18])\n",
    "\n",
    "# Hitung invers matriks A\n",
    "A_inv = np.linalg.inv(A)\n",
    "\n",
    "# Hitung vektor solusi X\n",
    "X = np.dot(A_inv, B)\n",
    "\n",
    "# Cetak vektor solusi X\n",
    "print(\"Solusi untuk variabel x1, x2, x3, x4, x5, x6:\")\n",
    "print(X)\n"
   ]
  }
 ],
 "metadata": {
  "kernelspec": {
   "display_name": "Python 3 (ipykernel)",
   "language": "python",
   "name": "python3"
  },
  "language_info": {
   "codemirror_mode": {
    "name": "ipython",
    "version": 3
   },
   "file_extension": ".py",
   "mimetype": "text/x-python",
   "name": "python",
   "nbconvert_exporter": "python",
   "pygments_lexer": "ipython3",
   "version": "3.10.13"
  },
  "widgets": {
   "application/vnd.jupyter.widget-state+json": {
    "state": {},
    "version_major": 2,
    "version_minor": 0
   }
  }
 },
 "nbformat": 4,
 "nbformat_minor": 4
}